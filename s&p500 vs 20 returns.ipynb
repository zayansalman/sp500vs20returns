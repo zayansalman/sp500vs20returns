{
 "cells": [
  {
   "cell_type": "markdown",
   "id": "cd2d1179-63b0-41d1-aeba-f6beb1ef960d",
   "metadata": {},
   "source": [
    "Goals\n",
    "- calc sp500 5 yr returns\n",
    "- calc sp20 5 yr returns \n",
    "- store data in mongodb\n",
    "- create fastapi app that returns calculated data from mongodb\n",
    "- create visualisation dashboard which gets data from fastapi\n",
    "- deploy it all on pythonanywhere /docker kubernetes \n",
    "- airflow or sth else to do daily runs of the calc apps that will store data in mongodb"
   ]
  },
  {
   "cell_type": "code",
   "execution_count": 2,
   "id": "b5b5010d-2090-4211-9c7f-fa6c0b1740bf",
   "metadata": {},
   "outputs": [],
   "source": [
    "import yfinance as yf"
   ]
  },
  {
   "cell_type": "code",
   "execution_count": 9,
   "id": "cadf2a7a-4831-461b-a245-5914741522b9",
   "metadata": {},
   "outputs": [],
   "source": [
    "import yfinance as yf\n",
    "import datetime\n",
    "\n",
    "# Define the start and end dates\n",
    "start_date = datetime.datetime.now() - datetime.timedelta(days=5*365)\n",
    "end_date = datetime.datetime.now()\n",
    "\n",
    "# Get S&P 500 data\n",
    "sp500 = yf.Ticker('^GSPC')\n",
    "sp500_data = sp500.history(start=start_date, end=end_date)\n"
   ]
  },
  {
   "cell_type": "code",
   "execution_count": 12,
   "id": "43c1d4bb-34c3-4402-a313-19dfd2d99368",
   "metadata": {},
   "outputs": [],
   "source": [
    "sp500_returns = (sp500_data['Close'] / sp500_data['Close'].shift(1)) - 1"
   ]
  },
  {
   "cell_type": "code",
   "execution_count": 13,
   "id": "460fe5de-4243-460c-95cd-bcb1708bb7c2",
   "metadata": {},
   "outputs": [
    {
     "data": {
      "text/plain": [
       "Date\n",
       "2018-09-04 00:00:00-04:00         NaN\n",
       "2018-09-05 00:00:00-04:00   -0.002803\n",
       "2018-09-06 00:00:00-04:00   -0.003652\n",
       "2018-09-07 00:00:00-04:00   -0.002213\n",
       "2018-09-10 00:00:00-04:00    0.001898\n",
       "                               ...   \n",
       "2023-08-28 00:00:00-04:00    0.006265\n",
       "2023-08-29 00:00:00-04:00    0.014508\n",
       "2023-08-30 00:00:00-04:00    0.003833\n",
       "2023-08-31 00:00:00-04:00   -0.001597\n",
       "2023-09-01 00:00:00-04:00    0.001799\n",
       "Name: Close, Length: 1258, dtype: float64"
      ]
     },
     "execution_count": 13,
     "metadata": {},
     "output_type": "execute_result"
    }
   ],
   "source": []
  },
  {
   "cell_type": "code",
   "execution_count": null,
   "id": "fdc32f62-6fe4-48f6-86ba-3b02391c9add",
   "metadata": {},
   "outputs": [],
   "source": []
  }
 ],
 "metadata": {
  "kernelspec": {
   "display_name": "Python 3 (ipykernel)",
   "language": "python",
   "name": "python3"
  },
  "language_info": {
   "codemirror_mode": {
    "name": "ipython",
    "version": 3
   },
   "file_extension": ".py",
   "mimetype": "text/x-python",
   "name": "python",
   "nbconvert_exporter": "python",
   "pygments_lexer": "ipython3",
   "version": "3.10.6"
  }
 },
 "nbformat": 4,
 "nbformat_minor": 5
}
